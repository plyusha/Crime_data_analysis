{
 "cells": [
  {
   "cell_type": "code",
   "execution_count": 54,
   "metadata": {},
   "outputs": [
    {
     "name": "stderr",
     "output_type": "stream",
     "text": [
      "/Users/davidmartinez/anaconda3/lib/python3.6/site-packages/IPython/core/interactiveshell.py:2728: DtypeWarning: Columns (17) have mixed types. Specify dtype option on import or set low_memory=False.\n",
      "  interactivity=interactivity, compiler=compiler, result=result)\n"
     ]
    }
   ],
   "source": [
    "# Dependencies and Setup\n",
    "%matplotlib inline\n",
    "import matplotlib.pyplot as plt\n",
    "import numpy as np\n",
    "import pandas as pd\n",
    "import dateutil\n",
    "import seaborn as sns\n",
    "\n",
    "# File to Load\n",
    "nyc_complaint_load = \"NYPD_Complaint_Data_Historic.csv\"\n",
    "nyc_complaint_data = pd.read_csv(nyc_complaint_load)"
   ]
  },
  {
   "cell_type": "code",
   "execution_count": 55,
   "metadata": {},
   "outputs": [
    {
     "name": "stdout",
     "output_type": "stream",
     "text": [
      "  CMPLNT_FR_DT    BORO_NM\n",
      "0   12/31/2015      BRONX\n",
      "1   12/31/2015     QUEENS\n",
      "2   12/31/2015  MANHATTAN\n",
      "3   12/31/2015     QUEENS\n",
      "4   12/31/2015  MANHATTAN\n"
     ]
    }
   ],
   "source": [
    "#Organize files\n",
    "nyc_complaint_organized = nyc_complaint_data.drop(columns=[\"RPT_DT\", \"CMPLNT_NUM\",\"CMPLNT_FR_TM\",\"CMPLNT_TO_DT\",\"CMPLNT_TO_TM\",\"KY_CD\",\"OFNS_DESC\",\"PD_CD\",\"PD_DESC\",\"CRM_ATPT_CPTD_CD\", \"LAW_CAT_CD\", \"JURIS_DESC\", \"ADDR_PCT_CD\", \"LOC_OF_OCCUR_DESC\", \"PREM_TYP_DESC\", \"PARKS_NM\", \"HADEVELOPT\", \"X_COORD_CD\", \"Y_COORD_CD\", \"Latitude\", \"Longitude\", \"Lat_Lon\"])\n",
    "\n",
    "print(nyc_complaint_organized.head())\n"
   ]
  },
  {
   "cell_type": "code",
   "execution_count": 56,
   "metadata": {},
   "outputs": [
    {
     "name": "stdout",
     "output_type": "stream",
     "text": [
      "        CMPLNT_FR_DT        BORO_NM\n",
      "0         12/31/2015          BRONX\n",
      "1         12/31/2015         QUEENS\n",
      "2         12/31/2015      MANHATTAN\n",
      "3         12/31/2015         QUEENS\n",
      "4         12/31/2015      MANHATTAN\n",
      "5         12/31/2015       BROOKLYN\n",
      "6         12/31/2015      MANHATTAN\n",
      "7         12/31/2015          BRONX\n",
      "8         12/31/2015          BRONX\n",
      "9         12/31/2015      MANHATTAN\n",
      "10        12/31/2015          BRONX\n",
      "11        12/31/2015      MANHATTAN\n",
      "12        12/31/2015      MANHATTAN\n",
      "13        12/31/2015      MANHATTAN\n",
      "14        12/31/2015       BROOKLYN\n",
      "15        12/31/2015         QUEENS\n",
      "16        12/31/2015      MANHATTAN\n",
      "17        12/31/2015          BRONX\n",
      "18        12/31/2015       BROOKLYN\n",
      "19        12/31/2015         QUEENS\n",
      "20        12/31/2015       BROOKLYN\n",
      "21        04/06/2015         QUEENS\n",
      "22        12/31/2015         QUEENS\n",
      "23        12/31/2015       BROOKLYN\n",
      "24        12/31/2015       BROOKLYN\n",
      "25        12/31/2015       BROOKLYN\n",
      "26        12/31/2015       BROOKLYN\n",
      "27        12/31/2015       BROOKLYN\n",
      "28        12/31/2015       BROOKLYN\n",
      "29        12/31/2015  STATEN ISLAND\n",
      "...              ...            ...\n",
      "6048766   12/16/2016       BROOKLYN\n",
      "6048767   12/15/2016       BROOKLYN\n",
      "6048768   12/10/2016       BROOKLYN\n",
      "6048769   12/10/2016          BRONX\n",
      "6048770   12/09/2016  STATEN ISLAND\n",
      "6048771   12/05/2016       BROOKLYN\n",
      "6048772   12/04/2016  STATEN ISLAND\n",
      "6048773   12/03/2016          BRONX\n",
      "6048774   12/03/2016         QUEENS\n",
      "6048775   12/03/2016      MANHATTAN\n",
      "6048776   12/01/2016      MANHATTAN\n",
      "6048777   11/30/2016       BROOKLYN\n",
      "6048778   11/16/2016          BRONX\n",
      "6048779   10/27/2016          BRONX\n",
      "6048780   10/21/2016       BROOKLYN\n",
      "6048781   10/13/2016       BROOKLYN\n",
      "6048782   10/12/2016      MANHATTAN\n",
      "6048783   10/05/2016       BROOKLYN\n",
      "6048784   10/04/2016       BROOKLYN\n",
      "6048785   07/01/2016       BROOKLYN\n",
      "6048786   05/29/2016       BROOKLYN\n",
      "6048787   04/01/2016          BRONX\n",
      "6048788   03/01/2016      MANHATTAN\n",
      "6048789   01/01/2016          BRONX\n",
      "6048790   01/01/2016       BROOKLYN\n",
      "6048791   01/01/2016         QUEENS\n",
      "6048792   01/01/2016       BROOKLYN\n",
      "6048793   12/01/2015          BRONX\n",
      "6048794   07/01/2015       BROOKLYN\n",
      "6048795   10/01/2012      MANHATTAN\n",
      "\n",
      "[6048796 rows x 2 columns]\n"
     ]
    }
   ],
   "source": [
    "nyc_complaint_df = pd.DataFrame(nyc_complaint_organized)\n",
    "print(nyc_complaint_df)"
   ]
  },
  {
   "cell_type": "code",
   "execution_count": 57,
   "metadata": {},
   "outputs": [],
   "source": [
    "nyc_complaint_df = nyc_complaint_df.rename(columns={\"CMPLNT_FR_DT\": \"Date Complaint Reported\", \"BORO_NM\": \"Borough\"})"
   ]
  },
  {
   "cell_type": "code",
   "execution_count": 58,
   "metadata": {},
   "outputs": [
    {
     "data": {
      "text/html": [
       "<div>\n",
       "<style scoped>\n",
       "    .dataframe tbody tr th:only-of-type {\n",
       "        vertical-align: middle;\n",
       "    }\n",
       "\n",
       "    .dataframe tbody tr th {\n",
       "        vertical-align: top;\n",
       "    }\n",
       "\n",
       "    .dataframe thead th {\n",
       "        text-align: right;\n",
       "    }\n",
       "</style>\n",
       "<table border=\"1\" class=\"dataframe\">\n",
       "  <thead>\n",
       "    <tr style=\"text-align: right;\">\n",
       "      <th></th>\n",
       "      <th>Date Complaint Reported</th>\n",
       "      <th>Borough</th>\n",
       "    </tr>\n",
       "  </thead>\n",
       "  <tbody>\n",
       "    <tr>\n",
       "      <th>6048621</th>\n",
       "      <td>12/31/2016</td>\n",
       "      <td>BROOKLYN</td>\n",
       "    </tr>\n",
       "    <tr>\n",
       "      <th>6048622</th>\n",
       "      <td>12/31/2016</td>\n",
       "      <td>BROOKLYN</td>\n",
       "    </tr>\n",
       "    <tr>\n",
       "      <th>6048623</th>\n",
       "      <td>12/31/2016</td>\n",
       "      <td>BRONX</td>\n",
       "    </tr>\n",
       "    <tr>\n",
       "      <th>6048624</th>\n",
       "      <td>12/31/2016</td>\n",
       "      <td>QUEENS</td>\n",
       "    </tr>\n",
       "    <tr>\n",
       "      <th>6048625</th>\n",
       "      <td>12/31/2016</td>\n",
       "      <td>MANHATTAN</td>\n",
       "    </tr>\n",
       "    <tr>\n",
       "      <th>6048626</th>\n",
       "      <td>12/31/2016</td>\n",
       "      <td>BROOKLYN</td>\n",
       "    </tr>\n",
       "    <tr>\n",
       "      <th>6048627</th>\n",
       "      <td>12/31/2016</td>\n",
       "      <td>BROOKLYN</td>\n",
       "    </tr>\n",
       "    <tr>\n",
       "      <th>6048628</th>\n",
       "      <td>12/31/2016</td>\n",
       "      <td>BROOKLYN</td>\n",
       "    </tr>\n",
       "    <tr>\n",
       "      <th>6048629</th>\n",
       "      <td>12/31/2016</td>\n",
       "      <td>MANHATTAN</td>\n",
       "    </tr>\n",
       "    <tr>\n",
       "      <th>6048630</th>\n",
       "      <td>12/31/2016</td>\n",
       "      <td>BRONX</td>\n",
       "    </tr>\n",
       "    <tr>\n",
       "      <th>6048631</th>\n",
       "      <td>12/31/2016</td>\n",
       "      <td>BROOKLYN</td>\n",
       "    </tr>\n",
       "    <tr>\n",
       "      <th>6048632</th>\n",
       "      <td>12/31/2016</td>\n",
       "      <td>MANHATTAN</td>\n",
       "    </tr>\n",
       "    <tr>\n",
       "      <th>6048633</th>\n",
       "      <td>12/31/2016</td>\n",
       "      <td>QUEENS</td>\n",
       "    </tr>\n",
       "    <tr>\n",
       "      <th>6048634</th>\n",
       "      <td>12/31/2016</td>\n",
       "      <td>BRONX</td>\n",
       "    </tr>\n",
       "    <tr>\n",
       "      <th>6048635</th>\n",
       "      <td>12/31/2016</td>\n",
       "      <td>QUEENS</td>\n",
       "    </tr>\n",
       "    <tr>\n",
       "      <th>6048636</th>\n",
       "      <td>12/31/2016</td>\n",
       "      <td>BROOKLYN</td>\n",
       "    </tr>\n",
       "    <tr>\n",
       "      <th>6048637</th>\n",
       "      <td>12/31/2016</td>\n",
       "      <td>MANHATTAN</td>\n",
       "    </tr>\n",
       "    <tr>\n",
       "      <th>6048638</th>\n",
       "      <td>12/31/2016</td>\n",
       "      <td>BROOKLYN</td>\n",
       "    </tr>\n",
       "    <tr>\n",
       "      <th>6048639</th>\n",
       "      <td>12/31/2016</td>\n",
       "      <td>MANHATTAN</td>\n",
       "    </tr>\n",
       "    <tr>\n",
       "      <th>6048640</th>\n",
       "      <td>12/31/2016</td>\n",
       "      <td>BRONX</td>\n",
       "    </tr>\n",
       "    <tr>\n",
       "      <th>6048641</th>\n",
       "      <td>12/31/2016</td>\n",
       "      <td>BRONX</td>\n",
       "    </tr>\n",
       "    <tr>\n",
       "      <th>6048642</th>\n",
       "      <td>12/31/2016</td>\n",
       "      <td>BROOKLYN</td>\n",
       "    </tr>\n",
       "    <tr>\n",
       "      <th>6048643</th>\n",
       "      <td>12/31/2016</td>\n",
       "      <td>BROOKLYN</td>\n",
       "    </tr>\n",
       "    <tr>\n",
       "      <th>6048644</th>\n",
       "      <td>12/31/2016</td>\n",
       "      <td>BROOKLYN</td>\n",
       "    </tr>\n",
       "    <tr>\n",
       "      <th>6048645</th>\n",
       "      <td>12/31/2016</td>\n",
       "      <td>QUEENS</td>\n",
       "    </tr>\n",
       "    <tr>\n",
       "      <th>6048646</th>\n",
       "      <td>12/31/2016</td>\n",
       "      <td>BRONX</td>\n",
       "    </tr>\n",
       "    <tr>\n",
       "      <th>6048647</th>\n",
       "      <td>12/31/2016</td>\n",
       "      <td>MANHATTAN</td>\n",
       "    </tr>\n",
       "    <tr>\n",
       "      <th>6048648</th>\n",
       "      <td>12/31/2016</td>\n",
       "      <td>QUEENS</td>\n",
       "    </tr>\n",
       "    <tr>\n",
       "      <th>6048649</th>\n",
       "      <td>12/31/2016</td>\n",
       "      <td>QUEENS</td>\n",
       "    </tr>\n",
       "    <tr>\n",
       "      <th>6048650</th>\n",
       "      <td>12/31/2016</td>\n",
       "      <td>QUEENS</td>\n",
       "    </tr>\n",
       "    <tr>\n",
       "      <th>...</th>\n",
       "      <td>...</td>\n",
       "      <td>...</td>\n",
       "    </tr>\n",
       "    <tr>\n",
       "      <th>6048766</th>\n",
       "      <td>12/16/2016</td>\n",
       "      <td>BROOKLYN</td>\n",
       "    </tr>\n",
       "    <tr>\n",
       "      <th>6048767</th>\n",
       "      <td>12/15/2016</td>\n",
       "      <td>BROOKLYN</td>\n",
       "    </tr>\n",
       "    <tr>\n",
       "      <th>6048768</th>\n",
       "      <td>12/10/2016</td>\n",
       "      <td>BROOKLYN</td>\n",
       "    </tr>\n",
       "    <tr>\n",
       "      <th>6048769</th>\n",
       "      <td>12/10/2016</td>\n",
       "      <td>BRONX</td>\n",
       "    </tr>\n",
       "    <tr>\n",
       "      <th>6048770</th>\n",
       "      <td>12/09/2016</td>\n",
       "      <td>STATEN ISLAND</td>\n",
       "    </tr>\n",
       "    <tr>\n",
       "      <th>6048771</th>\n",
       "      <td>12/05/2016</td>\n",
       "      <td>BROOKLYN</td>\n",
       "    </tr>\n",
       "    <tr>\n",
       "      <th>6048772</th>\n",
       "      <td>12/04/2016</td>\n",
       "      <td>STATEN ISLAND</td>\n",
       "    </tr>\n",
       "    <tr>\n",
       "      <th>6048773</th>\n",
       "      <td>12/03/2016</td>\n",
       "      <td>BRONX</td>\n",
       "    </tr>\n",
       "    <tr>\n",
       "      <th>6048774</th>\n",
       "      <td>12/03/2016</td>\n",
       "      <td>QUEENS</td>\n",
       "    </tr>\n",
       "    <tr>\n",
       "      <th>6048775</th>\n",
       "      <td>12/03/2016</td>\n",
       "      <td>MANHATTAN</td>\n",
       "    </tr>\n",
       "    <tr>\n",
       "      <th>6048776</th>\n",
       "      <td>12/01/2016</td>\n",
       "      <td>MANHATTAN</td>\n",
       "    </tr>\n",
       "    <tr>\n",
       "      <th>6048777</th>\n",
       "      <td>11/30/2016</td>\n",
       "      <td>BROOKLYN</td>\n",
       "    </tr>\n",
       "    <tr>\n",
       "      <th>6048778</th>\n",
       "      <td>11/16/2016</td>\n",
       "      <td>BRONX</td>\n",
       "    </tr>\n",
       "    <tr>\n",
       "      <th>6048779</th>\n",
       "      <td>10/27/2016</td>\n",
       "      <td>BRONX</td>\n",
       "    </tr>\n",
       "    <tr>\n",
       "      <th>6048780</th>\n",
       "      <td>10/21/2016</td>\n",
       "      <td>BROOKLYN</td>\n",
       "    </tr>\n",
       "    <tr>\n",
       "      <th>6048781</th>\n",
       "      <td>10/13/2016</td>\n",
       "      <td>BROOKLYN</td>\n",
       "    </tr>\n",
       "    <tr>\n",
       "      <th>6048782</th>\n",
       "      <td>10/12/2016</td>\n",
       "      <td>MANHATTAN</td>\n",
       "    </tr>\n",
       "    <tr>\n",
       "      <th>6048783</th>\n",
       "      <td>10/05/2016</td>\n",
       "      <td>BROOKLYN</td>\n",
       "    </tr>\n",
       "    <tr>\n",
       "      <th>6048784</th>\n",
       "      <td>10/04/2016</td>\n",
       "      <td>BROOKLYN</td>\n",
       "    </tr>\n",
       "    <tr>\n",
       "      <th>6048785</th>\n",
       "      <td>07/01/2016</td>\n",
       "      <td>BROOKLYN</td>\n",
       "    </tr>\n",
       "    <tr>\n",
       "      <th>6048786</th>\n",
       "      <td>05/29/2016</td>\n",
       "      <td>BROOKLYN</td>\n",
       "    </tr>\n",
       "    <tr>\n",
       "      <th>6048787</th>\n",
       "      <td>04/01/2016</td>\n",
       "      <td>BRONX</td>\n",
       "    </tr>\n",
       "    <tr>\n",
       "      <th>6048788</th>\n",
       "      <td>03/01/2016</td>\n",
       "      <td>MANHATTAN</td>\n",
       "    </tr>\n",
       "    <tr>\n",
       "      <th>6048789</th>\n",
       "      <td>01/01/2016</td>\n",
       "      <td>BRONX</td>\n",
       "    </tr>\n",
       "    <tr>\n",
       "      <th>6048790</th>\n",
       "      <td>01/01/2016</td>\n",
       "      <td>BROOKLYN</td>\n",
       "    </tr>\n",
       "    <tr>\n",
       "      <th>6048791</th>\n",
       "      <td>01/01/2016</td>\n",
       "      <td>QUEENS</td>\n",
       "    </tr>\n",
       "    <tr>\n",
       "      <th>6048792</th>\n",
       "      <td>01/01/2016</td>\n",
       "      <td>BROOKLYN</td>\n",
       "    </tr>\n",
       "    <tr>\n",
       "      <th>6048793</th>\n",
       "      <td>12/01/2015</td>\n",
       "      <td>BRONX</td>\n",
       "    </tr>\n",
       "    <tr>\n",
       "      <th>6048794</th>\n",
       "      <td>07/01/2015</td>\n",
       "      <td>BROOKLYN</td>\n",
       "    </tr>\n",
       "    <tr>\n",
       "      <th>6048795</th>\n",
       "      <td>10/01/2012</td>\n",
       "      <td>MANHATTAN</td>\n",
       "    </tr>\n",
       "  </tbody>\n",
       "</table>\n",
       "<p>175 rows × 2 columns</p>\n",
       "</div>"
      ],
      "text/plain": [
       "        Date Complaint Reported        Borough\n",
       "6048621              12/31/2016       BROOKLYN\n",
       "6048622              12/31/2016       BROOKLYN\n",
       "6048623              12/31/2016          BRONX\n",
       "6048624              12/31/2016         QUEENS\n",
       "6048625              12/31/2016      MANHATTAN\n",
       "6048626              12/31/2016       BROOKLYN\n",
       "6048627              12/31/2016       BROOKLYN\n",
       "6048628              12/31/2016       BROOKLYN\n",
       "6048629              12/31/2016      MANHATTAN\n",
       "6048630              12/31/2016          BRONX\n",
       "6048631              12/31/2016       BROOKLYN\n",
       "6048632              12/31/2016      MANHATTAN\n",
       "6048633              12/31/2016         QUEENS\n",
       "6048634              12/31/2016          BRONX\n",
       "6048635              12/31/2016         QUEENS\n",
       "6048636              12/31/2016       BROOKLYN\n",
       "6048637              12/31/2016      MANHATTAN\n",
       "6048638              12/31/2016       BROOKLYN\n",
       "6048639              12/31/2016      MANHATTAN\n",
       "6048640              12/31/2016          BRONX\n",
       "6048641              12/31/2016          BRONX\n",
       "6048642              12/31/2016       BROOKLYN\n",
       "6048643              12/31/2016       BROOKLYN\n",
       "6048644              12/31/2016       BROOKLYN\n",
       "6048645              12/31/2016         QUEENS\n",
       "6048646              12/31/2016          BRONX\n",
       "6048647              12/31/2016      MANHATTAN\n",
       "6048648              12/31/2016         QUEENS\n",
       "6048649              12/31/2016         QUEENS\n",
       "6048650              12/31/2016         QUEENS\n",
       "...                         ...            ...\n",
       "6048766              12/16/2016       BROOKLYN\n",
       "6048767              12/15/2016       BROOKLYN\n",
       "6048768              12/10/2016       BROOKLYN\n",
       "6048769              12/10/2016          BRONX\n",
       "6048770              12/09/2016  STATEN ISLAND\n",
       "6048771              12/05/2016       BROOKLYN\n",
       "6048772              12/04/2016  STATEN ISLAND\n",
       "6048773              12/03/2016          BRONX\n",
       "6048774              12/03/2016         QUEENS\n",
       "6048775              12/03/2016      MANHATTAN\n",
       "6048776              12/01/2016      MANHATTAN\n",
       "6048777              11/30/2016       BROOKLYN\n",
       "6048778              11/16/2016          BRONX\n",
       "6048779              10/27/2016          BRONX\n",
       "6048780              10/21/2016       BROOKLYN\n",
       "6048781              10/13/2016       BROOKLYN\n",
       "6048782              10/12/2016      MANHATTAN\n",
       "6048783              10/05/2016       BROOKLYN\n",
       "6048784              10/04/2016       BROOKLYN\n",
       "6048785              07/01/2016       BROOKLYN\n",
       "6048786              05/29/2016       BROOKLYN\n",
       "6048787              04/01/2016          BRONX\n",
       "6048788              03/01/2016      MANHATTAN\n",
       "6048789              01/01/2016          BRONX\n",
       "6048790              01/01/2016       BROOKLYN\n",
       "6048791              01/01/2016         QUEENS\n",
       "6048792              01/01/2016       BROOKLYN\n",
       "6048793              12/01/2015          BRONX\n",
       "6048794              07/01/2015       BROOKLYN\n",
       "6048795              10/01/2012      MANHATTAN\n",
       "\n",
       "[175 rows x 2 columns]"
      ]
     },
     "execution_count": 58,
     "metadata": {},
     "output_type": "execute_result"
    }
   ],
   "source": [
    "nyc_complaint_df.tail(175)"
   ]
  },
  {
   "cell_type": "code",
   "execution_count": 59,
   "metadata": {},
   "outputs": [
    {
     "data": {
      "text/html": [
       "<div>\n",
       "<style scoped>\n",
       "    .dataframe tbody tr th:only-of-type {\n",
       "        vertical-align: middle;\n",
       "    }\n",
       "\n",
       "    .dataframe tbody tr th {\n",
       "        vertical-align: top;\n",
       "    }\n",
       "\n",
       "    .dataframe thead th {\n",
       "        text-align: right;\n",
       "    }\n",
       "</style>\n",
       "<table border=\"1\" class=\"dataframe\">\n",
       "  <thead>\n",
       "    <tr style=\"text-align: right;\">\n",
       "      <th></th>\n",
       "      <th>Date Complaint Reported</th>\n",
       "      <th>Borough</th>\n",
       "    </tr>\n",
       "  </thead>\n",
       "  <tbody>\n",
       "    <tr>\n",
       "      <th>count</th>\n",
       "      <td>6048141</td>\n",
       "      <td>6048333</td>\n",
       "    </tr>\n",
       "    <tr>\n",
       "      <th>unique</th>\n",
       "      <td>7258</td>\n",
       "      <td>5</td>\n",
       "    </tr>\n",
       "    <tr>\n",
       "      <th>top</th>\n",
       "      <td>01/01/2010</td>\n",
       "      <td>BROOKLYN</td>\n",
       "    </tr>\n",
       "    <tr>\n",
       "      <th>freq</th>\n",
       "      <td>2395</td>\n",
       "      <td>1804644</td>\n",
       "    </tr>\n",
       "  </tbody>\n",
       "</table>\n",
       "</div>"
      ],
      "text/plain": [
       "       Date Complaint Reported   Borough\n",
       "count                  6048141   6048333\n",
       "unique                    7258         5\n",
       "top                 01/01/2010  BROOKLYN\n",
       "freq                      2395   1804644"
      ]
     },
     "execution_count": 59,
     "metadata": {},
     "output_type": "execute_result"
    }
   ],
   "source": [
    "nyc_complaint_df.describe()"
   ]
  },
  {
   "cell_type": "code",
   "execution_count": 60,
   "metadata": {},
   "outputs": [],
   "source": [
    "nyc_complaint_df_2 = nyc_complaint_df.dropna()"
   ]
  },
  {
   "cell_type": "code",
   "execution_count": 61,
   "metadata": {
    "scrolled": true
   },
   "outputs": [
    {
     "data": {
      "text/html": [
       "<div>\n",
       "<style scoped>\n",
       "    .dataframe tbody tr th:only-of-type {\n",
       "        vertical-align: middle;\n",
       "    }\n",
       "\n",
       "    .dataframe tbody tr th {\n",
       "        vertical-align: top;\n",
       "    }\n",
       "\n",
       "    .dataframe thead th {\n",
       "        text-align: right;\n",
       "    }\n",
       "</style>\n",
       "<table border=\"1\" class=\"dataframe\">\n",
       "  <thead>\n",
       "    <tr style=\"text-align: right;\">\n",
       "      <th></th>\n",
       "      <th>Date Complaint Reported</th>\n",
       "    </tr>\n",
       "    <tr>\n",
       "      <th>Borough</th>\n",
       "      <th></th>\n",
       "    </tr>\n",
       "  </thead>\n",
       "  <tbody>\n",
       "    <tr>\n",
       "      <th>BRONX</th>\n",
       "      <td>1313036</td>\n",
       "    </tr>\n",
       "    <tr>\n",
       "      <th>BROOKLYN</th>\n",
       "      <td>1804432</td>\n",
       "    </tr>\n",
       "    <tr>\n",
       "      <th>MANHATTAN</th>\n",
       "      <td>1446094</td>\n",
       "    </tr>\n",
       "    <tr>\n",
       "      <th>QUEENS</th>\n",
       "      <td>1197187</td>\n",
       "    </tr>\n",
       "    <tr>\n",
       "      <th>STATEN ISLAND</th>\n",
       "      <td>286929</td>\n",
       "    </tr>\n",
       "  </tbody>\n",
       "</table>\n",
       "</div>"
      ],
      "text/plain": [
       "               Date Complaint Reported\n",
       "Borough                               \n",
       "BRONX                          1313036\n",
       "BROOKLYN                       1804432\n",
       "MANHATTAN                      1446094\n",
       "QUEENS                         1197187\n",
       "STATEN ISLAND                   286929"
      ]
     },
     "execution_count": 61,
     "metadata": {},
     "output_type": "execute_result"
    }
   ],
   "source": [
    "nyc_complaint_df_2.groupby(\"Borough\").count()"
   ]
  },
  {
   "cell_type": "code",
   "execution_count": 62,
   "metadata": {},
   "outputs": [],
   "source": [
    "y2012 = nyc_complaint_df_2[nyc_complaint_df_2['Date Complaint Reported'].str.contains(\"2012\")].groupby(\"Borough\").count()\n",
    "y2012 = y2012.reset_index()"
   ]
  },
  {
   "cell_type": "code",
   "execution_count": 63,
   "metadata": {},
   "outputs": [
    {
     "data": {
      "text/html": [
       "<div>\n",
       "<style scoped>\n",
       "    .dataframe tbody tr th:only-of-type {\n",
       "        vertical-align: middle;\n",
       "    }\n",
       "\n",
       "    .dataframe tbody tr th {\n",
       "        vertical-align: top;\n",
       "    }\n",
       "\n",
       "    .dataframe thead th {\n",
       "        text-align: right;\n",
       "    }\n",
       "</style>\n",
       "<table border=\"1\" class=\"dataframe\">\n",
       "  <thead>\n",
       "    <tr style=\"text-align: right;\">\n",
       "      <th></th>\n",
       "      <th>Borough</th>\n",
       "      <th>Date Complaint Reported</th>\n",
       "    </tr>\n",
       "  </thead>\n",
       "  <tbody>\n",
       "    <tr>\n",
       "      <th>0</th>\n",
       "      <td>BRONX</td>\n",
       "      <td>106958</td>\n",
       "    </tr>\n",
       "    <tr>\n",
       "      <th>1</th>\n",
       "      <td>BROOKLYN</td>\n",
       "      <td>154802</td>\n",
       "    </tr>\n",
       "    <tr>\n",
       "      <th>2</th>\n",
       "      <td>MANHATTAN</td>\n",
       "      <td>119956</td>\n",
       "    </tr>\n",
       "    <tr>\n",
       "      <th>3</th>\n",
       "      <td>QUEENS</td>\n",
       "      <td>99172</td>\n",
       "    </tr>\n",
       "    <tr>\n",
       "      <th>4</th>\n",
       "      <td>STATEN ISLAND</td>\n",
       "      <td>23621</td>\n",
       "    </tr>\n",
       "  </tbody>\n",
       "</table>\n",
       "</div>"
      ],
      "text/plain": [
       "         Borough  Date Complaint Reported\n",
       "0          BRONX                   106958\n",
       "1       BROOKLYN                   154802\n",
       "2      MANHATTAN                   119956\n",
       "3         QUEENS                    99172\n",
       "4  STATEN ISLAND                    23621"
      ]
     },
     "execution_count": 63,
     "metadata": {},
     "output_type": "execute_result"
    }
   ],
   "source": [
    "y2012.rename(columns={\"Date Complaint Report\": \"Number of Complaints\"})\n",
    "y2012"
   ]
  },
  {
   "cell_type": "code",
   "execution_count": 64,
   "metadata": {},
   "outputs": [
    {
     "data": {
      "image/png": "[encoded data removed]",
      "text/plain": [
       "<matplotlib.figure.Figure at 0x1a6c688390>"
      ]
     },
     "metadata": {},
     "output_type": "display_data"
    }
   ],
   "source": [
    "ax = sns.barplot(y = \"Date Complaint Reported\", x = \"Borough\", data=y2012)\n",
    "ax.set(xlabel = \"Borough\", ylabel = \"Number of Complaints\")\n",
    "plt.savefig(\"2012.Complaints.png\")\n",
    "#plt.show()"
   ]
  },
  {
   "cell_type": "code",
   "execution_count": 65,
   "metadata": {},
   "outputs": [],
   "source": [
    "#plt.savefig(\"2012.Complaints.png\")\n",
    "#plt.show()"
   ]
  },
  {
   "cell_type": "code",
   "execution_count": 66,
   "metadata": {},
   "outputs": [],
   "source": [
    "y2013 = nyc_complaint_df_2[nyc_complaint_df_2['Date Complaint Reported'].str.contains(\"2013\")].groupby(\"Borough\").count()\n",
    "y2013 = y2013.reset_index()"
   ]
  },
  {
   "cell_type": "code",
   "execution_count": 67,
   "metadata": {},
   "outputs": [
    {
     "data": {
      "text/html": [
       "<div>\n",
       "<style scoped>\n",
       "    .dataframe tbody tr th:only-of-type {\n",
       "        vertical-align: middle;\n",
       "    }\n",
       "\n",
       "    .dataframe tbody tr th {\n",
       "        vertical-align: top;\n",
       "    }\n",
       "\n",
       "    .dataframe thead th {\n",
       "        text-align: right;\n",
       "    }\n",
       "</style>\n",
       "<table border=\"1\" class=\"dataframe\">\n",
       "  <thead>\n",
       "    <tr style=\"text-align: right;\">\n",
       "      <th></th>\n",
       "      <th>Borough</th>\n",
       "      <th>Date Complaint Reported</th>\n",
       "    </tr>\n",
       "  </thead>\n",
       "  <tbody>\n",
       "    <tr>\n",
       "      <th>0</th>\n",
       "      <td>BRONX</td>\n",
       "      <td>104166</td>\n",
       "    </tr>\n",
       "    <tr>\n",
       "      <th>1</th>\n",
       "      <td>BROOKLYN</td>\n",
       "      <td>149725</td>\n",
       "    </tr>\n",
       "    <tr>\n",
       "      <th>2</th>\n",
       "      <td>MANHATTAN</td>\n",
       "      <td>117883</td>\n",
       "    </tr>\n",
       "    <tr>\n",
       "      <th>3</th>\n",
       "      <td>QUEENS</td>\n",
       "      <td>101051</td>\n",
       "    </tr>\n",
       "    <tr>\n",
       "      <th>4</th>\n",
       "      <td>STATEN ISLAND</td>\n",
       "      <td>22628</td>\n",
       "    </tr>\n",
       "  </tbody>\n",
       "</table>\n",
       "</div>"
      ],
      "text/plain": [
       "         Borough  Date Complaint Reported\n",
       "0          BRONX                   104166\n",
       "1       BROOKLYN                   149725\n",
       "2      MANHATTAN                   117883\n",
       "3         QUEENS                   101051\n",
       "4  STATEN ISLAND                    22628"
      ]
     },
     "execution_count": 67,
     "metadata": {},
     "output_type": "execute_result"
    }
   ],
   "source": [
    "y2013.rename(columns={\"Date Complaint Report\": \"Number of Complaints\"})\n",
    "y2013"
   ]
  },
  {
   "cell_type": "code",
   "execution_count": 68,
   "metadata": {},
   "outputs": [
    {
     "data": {
      "image/png": "[encoded data removed]",
      "text/plain": [
       "<matplotlib.figure.Figure at 0x1a6c688438>"
      ]
     },
     "metadata": {},
     "output_type": "display_data"
    }
   ],
   "source": [
    "ax = sns.barplot(y = \"Date Complaint Reported\", x = \"Borough\", data=y2013)\n",
    "ax.set(xlabel = \"Borough\", ylabel = \"Number of Complaints\")\n",
    "plt.savefig(\"2013.Complaints.png\")\n",
    "#plt.show()"
   ]
  },
  {
   "cell_type": "code",
   "execution_count": 69,
   "metadata": {},
   "outputs": [],
   "source": [
    "#plt.savefig(\"2013.Complaints.png\")\n",
    "#plt.show()"
   ]
  },
  {
   "cell_type": "code",
   "execution_count": 70,
   "metadata": {},
   "outputs": [],
   "source": [
    "y2014 = nyc_complaint_df_2[nyc_complaint_df_2['Date Complaint Reported'].str.contains(\"2014\")].groupby(\"Borough\").count()\n",
    "y2014 = y2014.reset_index()"
   ]
  },
  {
   "cell_type": "code",
   "execution_count": 71,
   "metadata": {},
   "outputs": [
    {
     "data": {
      "text/html": [
       "<div>\n",
       "<style scoped>\n",
       "    .dataframe tbody tr th:only-of-type {\n",
       "        vertical-align: middle;\n",
       "    }\n",
       "\n",
       "    .dataframe tbody tr th {\n",
       "        vertical-align: top;\n",
       "    }\n",
       "\n",
       "    .dataframe thead th {\n",
       "        text-align: right;\n",
       "    }\n",
       "</style>\n",
       "<table border=\"1\" class=\"dataframe\">\n",
       "  <thead>\n",
       "    <tr style=\"text-align: right;\">\n",
       "      <th></th>\n",
       "      <th>Borough</th>\n",
       "      <th>Date Complaint Reported</th>\n",
       "    </tr>\n",
       "  </thead>\n",
       "  <tbody>\n",
       "    <tr>\n",
       "      <th>0</th>\n",
       "      <td>BRONX</td>\n",
       "      <td>106276</td>\n",
       "    </tr>\n",
       "    <tr>\n",
       "      <th>1</th>\n",
       "      <td>BROOKLYN</td>\n",
       "      <td>148804</td>\n",
       "    </tr>\n",
       "    <tr>\n",
       "      <th>2</th>\n",
       "      <td>MANHATTAN</td>\n",
       "      <td>113398</td>\n",
       "    </tr>\n",
       "    <tr>\n",
       "      <th>3</th>\n",
       "      <td>QUEENS</td>\n",
       "      <td>100356</td>\n",
       "    </tr>\n",
       "    <tr>\n",
       "      <th>4</th>\n",
       "      <td>STATEN ISLAND</td>\n",
       "      <td>22767</td>\n",
       "    </tr>\n",
       "  </tbody>\n",
       "</table>\n",
       "</div>"
      ],
      "text/plain": [
       "         Borough  Date Complaint Reported\n",
       "0          BRONX                   106276\n",
       "1       BROOKLYN                   148804\n",
       "2      MANHATTAN                   113398\n",
       "3         QUEENS                   100356\n",
       "4  STATEN ISLAND                    22767"
      ]
     },
     "execution_count": 71,
     "metadata": {},
     "output_type": "execute_result"
    }
   ],
   "source": [
    "y2014.rename(columns={\"Date Complaint Report\": \"Number of Complaints\"})\n",
    "y2014"
   ]
  },
  {
   "cell_type": "code",
   "execution_count": 72,
   "metadata": {},
   "outputs": [
    {
     "data": {
      "image/png": "[encoded data removed]",
      "text/plain": [
       "<matplotlib.figure.Figure at 0x1a6570ee10>"
      ]
     },
     "metadata": {},
     "output_type": "display_data"
    }
   ],
   "source": [
    "ax = sns.barplot(y = \"Date Complaint Reported\", x = \"Borough\", data=y2014)\n",
    "ax.set(xlabel = \"Borough\", ylabel = \"Number of Complaints\")\n",
    "plt.savefig(\"2014.Complaints.png\")\n",
    "#plt.show()"
   ]
  },
  {
   "cell_type": "code",
   "execution_count": 73,
   "metadata": {},
   "outputs": [],
   "source": [
    "#plt.savefig(\"2014.Complaints.png\")\n",
    "#plt.show()"
   ]
  },
  {
   "cell_type": "code",
   "execution_count": 74,
   "metadata": {},
   "outputs": [],
   "source": [
    "y2015 = nyc_complaint_df_2[nyc_complaint_df_2['Date Complaint Reported'].str.contains(\"2015\")].groupby(\"Borough\").count()\n",
    "y2015 = y2015.reset_index()"
   ]
  },
  {
   "cell_type": "code",
   "execution_count": 75,
   "metadata": {},
   "outputs": [
    {
     "data": {
      "text/html": [
       "<div>\n",
       "<style scoped>\n",
       "    .dataframe tbody tr th:only-of-type {\n",
       "        vertical-align: middle;\n",
       "    }\n",
       "\n",
       "    .dataframe tbody tr th {\n",
       "        vertical-align: top;\n",
       "    }\n",
       "\n",
       "    .dataframe thead th {\n",
       "        text-align: right;\n",
       "    }\n",
       "</style>\n",
       "<table border=\"1\" class=\"dataframe\">\n",
       "  <thead>\n",
       "    <tr style=\"text-align: right;\">\n",
       "      <th></th>\n",
       "      <th>Borough</th>\n",
       "      <th>Date Complaint Reported</th>\n",
       "    </tr>\n",
       "  </thead>\n",
       "  <tbody>\n",
       "    <tr>\n",
       "      <th>0</th>\n",
       "      <td>BRONX</td>\n",
       "      <td>105032</td>\n",
       "    </tr>\n",
       "    <tr>\n",
       "      <th>1</th>\n",
       "      <td>BROOKLYN</td>\n",
       "      <td>142855</td>\n",
       "    </tr>\n",
       "    <tr>\n",
       "      <th>2</th>\n",
       "      <td>MANHATTAN</td>\n",
       "      <td>112890</td>\n",
       "    </tr>\n",
       "    <tr>\n",
       "      <th>3</th>\n",
       "      <td>QUEENS</td>\n",
       "      <td>94906</td>\n",
       "    </tr>\n",
       "    <tr>\n",
       "      <th>4</th>\n",
       "      <td>STATEN ISLAND</td>\n",
       "      <td>22170</td>\n",
       "    </tr>\n",
       "  </tbody>\n",
       "</table>\n",
       "</div>"
      ],
      "text/plain": [
       "         Borough  Date Complaint Reported\n",
       "0          BRONX                   105032\n",
       "1       BROOKLYN                   142855\n",
       "2      MANHATTAN                   112890\n",
       "3         QUEENS                    94906\n",
       "4  STATEN ISLAND                    22170"
      ]
     },
     "execution_count": 75,
     "metadata": {},
     "output_type": "execute_result"
    }
   ],
   "source": [
    "y2015.rename(columns={\"Date Complaint Report\": \"Number of Complaints\"})\n",
    "y2015"
   ]
  },
  {
   "cell_type": "code",
   "execution_count": 76,
   "metadata": {},
   "outputs": [
    {
     "data": {
      "image/png": "[encoded data removed]",
      "text/plain": [
       "<matplotlib.figure.Figure at 0x1a5eea5630>"
      ]
     },
     "metadata": {},
     "output_type": "display_data"
    }
   ],
   "source": [
    "ax = sns.barplot(y = \"Date Complaint Reported\", x = \"Borough\", data=y2015)\n",
    "ax.set(xlabel = \"Borough\", ylabel = \"Number of Complaints\")\n",
    "plt.savefig(\"2015.Complaints.png\")\n",
    "#plt.show()"
   ]
  },
  {
   "cell_type": "code",
   "execution_count": 77,
   "metadata": {},
   "outputs": [],
   "source": [
    "#plt.savefig(\"2015.Complaints.png\")\n",
    "#plt.show()"
   ]
  },
  {
   "cell_type": "code",
   "execution_count": 78,
   "metadata": {},
   "outputs": [],
   "source": [
    "y2016 = nyc_complaint_df_2[nyc_complaint_df_2['Date Complaint Reported'].str.contains(\"2016\")].groupby(\"Borough\").count()\n",
    "y2016 = y2016.reset_index()"
   ]
  },
  {
   "cell_type": "code",
   "execution_count": 79,
   "metadata": {},
   "outputs": [
    {
     "data": {
      "text/html": [
       "<div>\n",
       "<style scoped>\n",
       "    .dataframe tbody tr th:only-of-type {\n",
       "        vertical-align: middle;\n",
       "    }\n",
       "\n",
       "    .dataframe tbody tr th {\n",
       "        vertical-align: top;\n",
       "    }\n",
       "\n",
       "    .dataframe thead th {\n",
       "        text-align: right;\n",
       "    }\n",
       "</style>\n",
       "<table border=\"1\" class=\"dataframe\">\n",
       "  <thead>\n",
       "    <tr style=\"text-align: right;\">\n",
       "      <th></th>\n",
       "      <th>Borough</th>\n",
       "      <th>Date Complaint Reported</th>\n",
       "    </tr>\n",
       "  </thead>\n",
       "  <tbody>\n",
       "    <tr>\n",
       "      <th>0</th>\n",
       "      <td>BRONX</td>\n",
       "      <td>105527</td>\n",
       "    </tr>\n",
       "    <tr>\n",
       "      <th>1</th>\n",
       "      <td>BROOKLYN</td>\n",
       "      <td>140162</td>\n",
       "    </tr>\n",
       "    <tr>\n",
       "      <th>2</th>\n",
       "      <td>MANHATTAN</td>\n",
       "      <td>115174</td>\n",
       "    </tr>\n",
       "    <tr>\n",
       "      <th>3</th>\n",
       "      <td>QUEENS</td>\n",
       "      <td>94068</td>\n",
       "    </tr>\n",
       "    <tr>\n",
       "      <th>4</th>\n",
       "      <td>STATEN ISLAND</td>\n",
       "      <td>21736</td>\n",
       "    </tr>\n",
       "  </tbody>\n",
       "</table>\n",
       "</div>"
      ],
      "text/plain": [
       "         Borough  Date Complaint Reported\n",
       "0          BRONX                   105527\n",
       "1       BROOKLYN                   140162\n",
       "2      MANHATTAN                   115174\n",
       "3         QUEENS                    94068\n",
       "4  STATEN ISLAND                    21736"
      ]
     },
     "execution_count": 79,
     "metadata": {},
     "output_type": "execute_result"
    }
   ],
   "source": [
    "y2016.rename(columns={\"Date Complaint Report\": \"Number of Complaints\"})\n",
    "y2016"
   ]
  },
  {
   "cell_type": "code",
   "execution_count": 80,
   "metadata": {
    "scrolled": true
   },
   "outputs": [
    {
     "data": {
      "image/png": "[encoded data removed]",
      "text/plain": [
       "<matplotlib.figure.Figure at 0x1a563da080>"
      ]
     },
     "metadata": {},
     "output_type": "display_data"
    }
   ],
   "source": [
    "ax = sns.barplot(y = \"Date Complaint Reported\", x = \"Borough\", data=y2016)\n",
    "ax.set(xlabel = \"Borough\", ylabel = \"Number of Complaints\")\n",
    "plt.savefig(\"2016.Complaints.png\")\n",
    "#plt.show()"
   ]
  },
  {
   "cell_type": "code",
   "execution_count": 81,
   "metadata": {},
   "outputs": [],
   "source": [
    "#plt.savefig(\"2016.Complaints.png\")\n",
    "#plt.show()"
   ]
  },
  {
   "cell_type": "code",
   "execution_count": 82,
   "metadata": {},
   "outputs": [],
   "source": [
    "y2017 = nyc_complaint_df_2[nyc_complaint_df_2['Date Complaint Reported'].str.contains(\"2017\")].groupby(\"Borough\").count()\n",
    "y2017 = y2017.reset_index()"
   ]
  },
  {
   "cell_type": "code",
   "execution_count": 83,
   "metadata": {},
   "outputs": [
    {
     "data": {
      "text/html": [
       "<div>\n",
       "<style scoped>\n",
       "    .dataframe tbody tr th:only-of-type {\n",
       "        vertical-align: middle;\n",
       "    }\n",
       "\n",
       "    .dataframe tbody tr th {\n",
       "        vertical-align: top;\n",
       "    }\n",
       "\n",
       "    .dataframe thead th {\n",
       "        text-align: right;\n",
       "    }\n",
       "</style>\n",
       "<table border=\"1\" class=\"dataframe\">\n",
       "  <thead>\n",
       "    <tr style=\"text-align: right;\">\n",
       "      <th></th>\n",
       "      <th>Borough</th>\n",
       "      <th>Date Complaint Reported</th>\n",
       "    </tr>\n",
       "  </thead>\n",
       "  <tbody>\n",
       "    <tr>\n",
       "      <th>0</th>\n",
       "      <td>BRONX</td>\n",
       "      <td>101305</td>\n",
       "    </tr>\n",
       "    <tr>\n",
       "      <th>1</th>\n",
       "      <td>BROOKLYN</td>\n",
       "      <td>134713</td>\n",
       "    </tr>\n",
       "    <tr>\n",
       "      <th>2</th>\n",
       "      <td>MANHATTAN</td>\n",
       "      <td>111646</td>\n",
       "    </tr>\n",
       "    <tr>\n",
       "      <th>3</th>\n",
       "      <td>QUEENS</td>\n",
       "      <td>89515</td>\n",
       "    </tr>\n",
       "    <tr>\n",
       "      <th>4</th>\n",
       "      <td>STATEN ISLAND</td>\n",
       "      <td>20856</td>\n",
       "    </tr>\n",
       "  </tbody>\n",
       "</table>\n",
       "</div>"
      ],
      "text/plain": [
       "         Borough  Date Complaint Reported\n",
       "0          BRONX                   101305\n",
       "1       BROOKLYN                   134713\n",
       "2      MANHATTAN                   111646\n",
       "3         QUEENS                    89515\n",
       "4  STATEN ISLAND                    20856"
      ]
     },
     "execution_count": 83,
     "metadata": {},
     "output_type": "execute_result"
    }
   ],
   "source": [
    "y2017.rename(columns={\"Date Complaint Report\": \"Number of Complaints\"})\n",
    "y2017"
   ]
  },
  {
   "cell_type": "code",
   "execution_count": 84,
   "metadata": {},
   "outputs": [
    {
     "data": {
      "image/png": "[encoded data removed]",
      "text/plain": [
       "<matplotlib.figure.Figure at 0x1a4d080550>"
      ]
     },
     "metadata": {},
     "output_type": "display_data"
    }
   ],
   "source": [
    "ax = sns.barplot(y = \"Date Complaint Reported\", x = \"Borough\", data=y2017)\n",
    "ax.set(xlabel = \"Borough\", ylabel = \"Number of Complaints\")\n",
    "plt.savefig(\"2017.Complaints.jpeg\")\n",
    "#plt.show()"
   ]
  },
  {
   "cell_type": "code",
   "execution_count": 85,
   "metadata": {},
   "outputs": [],
   "source": [
    "#plt.savefig(\"2017.Complaints.jpeg\")\n",
    "#plt.show"
   ]
  },
  {
   "cell_type": "code",
   "execution_count": null,
   "metadata": {},
   "outputs": [],
   "source": []
  },
  {
   "cell_type": "code",
   "execution_count": null,
   "metadata": {},
   "outputs": [],
   "source": []
  }
 ],
 "metadata": {
  "kernelspec": {
   "display_name": "Python 3",
   "language": "python",
   "name": "python3"
  },
  "language_info": {
   "codemirror_mode": {
    "name": "ipython",
    "version": 3
   },
   "file_extension": ".py",
   "mimetype": "text/x-python",
   "name": "python",
   "nbconvert_exporter": "python",
   "pygments_lexer": "ipython3",
   "version": "3.6.4"
  }
 },
 "nbformat": 4,
 "nbformat_minor": 2
}
